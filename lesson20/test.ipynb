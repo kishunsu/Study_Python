{
 "cells": [
  {
   "cell_type": "markdown",
   "metadata": {},
   "source": [
    "import imageio\n",
    "import numpy as np\n",
    "\n",
    "\n",
    "# 写真は全て 75ピクセル × 75ピクセル のRGBカラー画像\n",
    "PHOTO_SIZE = 75 * 75 * 3\n",
    "\n",
    "# 空の配列（計測データ X と教師データ y）を用意する\n",
    "X = np.empty((0, PHOTO_SIZE), np.uint8)\n",
    "y = np.empty(0, np.uint8)\n",
    "\n",
    "# 犬と猫の画像を配列形式で読み込んでXに格納（axis = 0で二次元配列の縦（行）に要素を追加する）\n",
    "# y には 犬 なら 0, 猫 なら 1 で整数値のデータを追加\n",
    "for i in range(1, 201):\n",
    "    p1 = imageio.imread(f\"dogs/dog-{i:03d}.jpg\").reshape(1, PHOTO_SIZE)\n",
    "    X = np.append(X, p1, axis = 0)\n",
    "    y = np.append(y, np.array([0], dtype = np.uint8))\n",
    "    \n",
    "    p2 = imageio.imread(f\"cats/cat-{i:03d}.jpg\").reshape(1, PHOTO_SIZE)\n",
    "    X = np.append(X, p2, axis = 0)\n",
    "    y = np.append(y, np.array([1], dtype = np.uint8))\n",
    "\n",
    "print\n",
    "import matplotlib.pyplot as plt\n",
    "fig=plt.figure()    \n",
    "for i,x in enumerate(X[0:10],0):\n",
    "    sp=fig.add_subplot(2,5,(i+1))\n",
    "    sp.imshow(X[i].reshape(75,75,3))"
   ]
  }
 ],
 "metadata": {
  "kernelspec": {
   "display_name": "Python 3",
   "language": "python",
   "name": "python3"
  },
  "language_info": {
   "codemirror_mode": {
    "name": "ipython",
    "version": 3
   },
   "file_extension": ".py",
   "mimetype": "text/x-python",
   "name": "python",
   "nbconvert_exporter": "python",
   "pygments_lexer": "ipython3",
   "version": "3.6.5"
  }
 },
 "nbformat": 4,
 "nbformat_minor": 2
}
