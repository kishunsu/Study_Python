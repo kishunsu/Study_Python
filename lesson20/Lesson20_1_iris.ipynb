{
 "cells": [
  {
   "cell_type": "code",
   "execution_count": 2,
   "metadata": {},
   "outputs": [
    {
     "name": "stdout",
     "output_type": "stream",
     "text": [
      "(150, 4)\n",
      "(150,)\n",
      "[[5.8 2.8 5.1 2.4]]\n",
      "[[-0.09308919 -0.56554445  0.74959853  1.54396839]\n",
      " [-0.09308919  2.11335031 -1.48915138 -1.33461674]\n",
      " [-0.45735122 -1.45850937  0.00334856 -0.15701373]\n",
      " [-0.33593054 -0.78878568  0.23296393  0.10467582]\n",
      " [ 0.5140142  -0.56554445  0.74959853  0.36636538]]\n",
      "[[-1.0644546   0.5506617  -1.3743437  -1.33461674]\n",
      " [ 1.12111758 -0.11906199  0.9792139   1.15143405]\n",
      " [-0.21450986 -1.01202691 -0.16886297 -0.28785851]\n",
      " [ 1.60680029  0.32742047  1.26623312  0.75889972]\n",
      " [-0.94303392  0.99714416 -1.3743437  -1.33461674]]\n"
     ]
    }
   ],
   "source": [
    "from sklearn import datasets\n",
    "iris = datasets.load_iris()\n",
    "X = iris.data\n",
    "y = iris.target\n",
    "print(X.shape)\n",
    "#print(y)\n",
    "print(y.shape)\n",
    "#print(iris.feature_names)\n",
    "#print(iris.target_names)\n",
    "#type(iris.target_names)\n",
    "from sklearn.model_selection import train_test_split\n",
    "X_train, X_test, y_train, y_test = train_test_split(X, y, train_size = 0.8, test_size = 0.2)\n",
    "print(X_train[0:1])\n",
    "#print(X_train)\n",
    "#print(X_test[0:5])\n",
    "#print(y_train)\n",
    "#print(y_test)\n",
    "from sklearn.preprocessing import StandardScaler\n",
    "scaler = StandardScaler()\n",
    "scaler.fit(X_train)\n",
    "X_train_std = scaler.transform(X_train)\n",
    "X_test_std = scaler.transform(X_test)\n",
    "print(X_train_std[0:5])\n",
    "print(X_test_std[0:5])"
   ]
  }
 ],
 "metadata": {
  "kernelspec": {
   "display_name": "Python 3",
   "language": "python",
   "name": "python3"
  },
  "language_info": {
   "codemirror_mode": {
    "name": "ipython",
    "version": 3
   },
   "file_extension": ".py",
   "mimetype": "text/x-python",
   "name": "python",
   "nbconvert_exporter": "python",
   "pygments_lexer": "ipython3",
   "version": "3.6.5"
  }
 },
 "nbformat": 4,
 "nbformat_minor": 2
}
