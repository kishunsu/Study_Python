{
 "cells": [
  {
   "cell_type": "code",
   "execution_count": 5,
   "metadata": {},
   "outputs": [
    {
     "name": "stdout",
     "output_type": "stream",
     "text": [
      "<class 'PIL.PngImagePlugin.PngImageFile'>\n"
     ]
    }
   ],
   "source": [
    "from PIL import Image\n",
    "tokyo_tower = Image.open(\"tokyo_tower.png\")\n",
    "print(type(tokyo_tower))\n",
    "gray_tower=tokyo_tower.convert(\"L\")\n",
    "gray_tower.save(\"tokyo_tower_gray.png\")"
   ]
  },
  {
   "cell_type": "code",
   "execution_count": 16,
   "metadata": {},
   "outputs": [
    {
     "name": "stdout",
     "output_type": "stream",
     "text": [
      "116\n"
     ]
    }
   ],
   "source": [
    "import imageio\n",
    "import numpy as np\n",
    "import matplotlib.pyplot as plt\n",
    "color_image = imageio.imread(\"tokyo_tower.png\")\n",
    "gray_image = imageio.imread(\"tokyo_tower_gray.png\")\n",
    "\n",
    "#print(type(color_image))\n",
    "#print(type(gray_image))\n",
    "#print(color_image.shape)\n",
    "#print(gray_image.shape)\n",
    "print(color_image[0][0][0])\n",
    "#print(gray_image[0][0])\n",
    "#plt.imshow(color_image)\n",
    "#plt.imshow(gray_image, cmap = \"gray\")\n",
    "#hist_c, bins_c = np.histogram(color_image.flatten(), bins=256)\n",
    "\n",
    "#plt.plot(hist_c)"
   ]
  }
 ],
 "metadata": {
  "kernelspec": {
   "display_name": "Python 3",
   "language": "python",
   "name": "python3"
  },
  "language_info": {
   "codemirror_mode": {
    "name": "ipython",
    "version": 3
   },
   "file_extension": ".py",
   "mimetype": "text/x-python",
   "name": "python",
   "nbconvert_exporter": "python",
   "pygments_lexer": "ipython3",
   "version": "3.6.5"
  }
 },
 "nbformat": 4,
 "nbformat_minor": 2
}
