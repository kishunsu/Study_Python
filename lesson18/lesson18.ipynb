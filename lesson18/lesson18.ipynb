{
 "cells": [
  {
   "cell_type": "code",
   "execution_count": 14,
   "metadata": {},
   "outputs": [
    {
     "name": "stdout",
     "output_type": "stream",
     "text": [
      "<class 'pandas.core.frame.DataFrame'>\n",
      "<class 'numpy.ndarray'>\n",
      "[[30 'unemployed' 'married' ... 0 'unknown' 'no']\n",
      " [33 'services' 'married' ... 4 'failure' 'no']\n",
      " [35 'management' 'single' ... 1 'failure' 'no']\n",
      " ...\n",
      " [57 'technician' 'married' ... 0 'unknown' 'no']\n",
      " [28 'blue-collar' 'married' ... 3 'other' 'no']\n",
      " [44 'entrepreneur' 'single' ... 7 'other' 'no']]\n",
      "['age' 'job' 'marital' 'education' 'default' 'balance' 'housing' 'loan'\n",
      " 'contact' 'day' 'month' 'duration' 'campaign' 'pdays' 'previous'\n",
      " 'poutcome' 'y']\n"
     ]
    }
   ],
   "source": [
    "import pandas as pd\n",
    "import numpy as n\n",
    "bank_data = pd.read_csv(\"../bank.csv\")\n",
    "print(type(bank_data))\n",
    "#bank_data.loc[1,\"job\"]\n",
    "nd_bank_data=bank_data.values\n",
    "print(type(nd_bank_data))\n",
    "print(nd_bank_data)\n",
    "nd_bank_columns=bank_data.columns.values\n",
    "print(nd_bank_columns)"
   ]
  }
 ],
 "metadata": {
  "kernelspec": {
   "display_name": "Python 3",
   "language": "python",
   "name": "python3"
  },
  "language_info": {
   "codemirror_mode": {
    "name": "ipython",
    "version": 3
   },
   "file_extension": ".py",
   "mimetype": "text/x-python",
   "name": "python",
   "nbconvert_exporter": "python",
   "pygments_lexer": "ipython3",
   "version": "3.6.5"
  }
 },
 "nbformat": 4,
 "nbformat_minor": 2
}
